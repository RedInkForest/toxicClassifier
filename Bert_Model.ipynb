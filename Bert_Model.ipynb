{
 "cells": [
  {
   "cell_type": "code",
   "execution_count": 1,
   "metadata": {
    "colab": {
     "base_uri": "https://localhost:8080/",
     "height": 278
    },
    "id": "CuErNp4blzyz",
    "outputId": "4d233bca-c940-4349-ed85-7d91488b6034"
   },
   "outputs": [
    {
     "name": "stderr",
     "output_type": "stream",
     "text": [
      "c:\\Users\\patri\\AppData\\Local\\Programs\\Python\\Python312\\Lib\\site-packages\\tqdm\\auto.py:21: TqdmWarning: IProgress not found. Please update jupyter and ipywidgets. See https://ipywidgets.readthedocs.io/en/stable/user_install.html\n",
      "  from .autonotebook import tqdm as notebook_tqdm\n"
     ]
    },
    {
     "name": "stdout",
     "output_type": "stream",
     "text": [
      "<class 'pandas.core.frame.DataFrame'>\n",
      "RangeIndex: 250 entries, 0 to 249\n",
      "Data columns (total 2 columns):\n",
      " #   Column    Non-Null Count  Dtype \n",
      "---  ------    --------------  ----- \n",
      " 0   text      250 non-null    object\n",
      " 1   is_toxic  250 non-null    bool  \n",
      "dtypes: bool(1), object(1)\n",
      "memory usage: 2.3+ KB\n",
      "None\n",
      "                sentence  isToxic\n",
      "0  Hang from the ceiling     True\n",
      "1          Kill yourself     True\n",
      "2          Go buy a rope     True\n",
      "3             Get cancer     True\n",
      "4   I hope your mom dies     True\n"
     ]
    },
    {
     "name": "stderr",
     "output_type": "stream",
     "text": [
      "C:\\Users\\patri\\AppData\\Local\\Temp\\ipykernel_45104\\1642148272.py:12: FutureWarning: Downcasting behavior in `replace` is deprecated and will be removed in a future version. To retain the old behavior, explicitly call `result.infer_objects(copy=False)`. To opt-in to the future behavior, set `pd.set_option('future.no_silent_downcasting', True)`\n",
      "  df = df.replace('Not Toxic', False)\n"
     ]
    }
   ],
   "source": [
    "import psycopg2\n",
    "import pandas as pd\n",
    "import os\n",
    "import psycopg2\n",
    "import pandas as pd\n",
    "import torch\n",
    "from torch.utils.data import DataLoader\n",
    "from transformers import BertTokenizer, BertModel\n",
    "\n",
    "df = pd.read_csv('GamingToxicPhrases.csv')\n",
    "df = df.replace('Toxic', True)\n",
    "df = df.replace('Not Toxic', False)\n",
    "print(df.info())\n",
    "df.rename(columns={'text': 'sentence', 'is_toxic': 'isToxic'}, inplace=True)\n",
    "print(df.head())"
   ]
  },
  {
   "cell_type": "code",
   "execution_count": 2,
   "metadata": {
    "colab": {
     "base_uri": "https://localhost:8080/"
    },
    "id": "NFqYiySysNvq",
    "outputId": "c03b8609-7056-46d8-e2c9-e5f1d236c3b3"
   },
   "outputs": [
    {
     "name": "stdout",
     "output_type": "stream",
     "text": [
      "<class 'pandas.core.frame.DataFrame'>\n",
      "RangeIndex: 1000 entries, 0 to 999\n",
      "Data columns (total 2 columns):\n",
      " #   Column    Non-Null Count  Dtype \n",
      "---  ------    --------------  ----- \n",
      " 0   text      1000 non-null   object\n",
      " 1   is_toxic  1000 non-null   bool  \n",
      "dtypes: bool(1), object(1)\n",
      "memory usage: 8.9+ KB\n",
      "None\n",
      "                                            sentence  isToxic\n",
      "0  Elon Musk is a piece of shit, greedy capitalis...     True\n",
      "1  The senile credit card shrill from Delaware ne...     True\n",
      "2  He does that a lot -- makes everyone look good...     True\n",
      "3                                         F*ck Lizzo     True\n",
      "4  Epstein and trump were best buds!!! Pedophiles...     True\n"
     ]
    },
    {
     "name": "stderr",
     "output_type": "stream",
     "text": [
      "C:\\Users\\patri\\AppData\\Local\\Temp\\ipykernel_45104\\1122102729.py:4: FutureWarning: Downcasting behavior in `replace` is deprecated and will be removed in a future version. To retain the old behavior, explicitly call `result.infer_objects(copy=False)`. To opt-in to the future behavior, set `pd.set_option('future.no_silent_downcasting', True)`\n",
      "  csv = csv.replace('Not Toxic', False)\n"
     ]
    }
   ],
   "source": [
    "csv = pd.read_csv('toxicity_en.csv')\n",
    "#csv.head()\n",
    "csv = csv.replace('Toxic', True)\n",
    "csv = csv.replace('Not Toxic', False)\n",
    "#print(csv.head())\n",
    "print(csv.info())\n",
    "csv.rename(columns={'text': 'sentence', 'is_toxic': 'isToxic'}, inplace=True)\n",
    "print(csv.head())"
   ]
  },
  {
   "cell_type": "code",
   "execution_count": 3,
   "metadata": {
    "colab": {
     "base_uri": "https://localhost:8080/"
    },
    "id": "ZPktQk-MmDjJ",
    "outputId": "f98dd3d6-93be-4064-8c47-4158b8d644f6"
   },
   "outputs": [
    {
     "name": "stdout",
     "output_type": "stream",
     "text": [
      "<class 'pandas.core.frame.DataFrame'>\n",
      "RangeIndex: 250 entries, 0 to 249\n",
      "Data columns (total 2 columns):\n",
      " #   Column    Non-Null Count  Dtype \n",
      "---  ------    --------------  ----- \n",
      " 0   sentence  250 non-null    object\n",
      " 1   isToxic   250 non-null    bool  \n",
      "dtypes: bool(1), object(1)\n",
      "memory usage: 2.3+ KB\n",
      "None\n",
      "                sentence  isToxic\n",
      "0  Hang from the ceiling     True\n",
      "1          Kill yourself     True\n",
      "2          Go buy a rope     True\n",
      "3             Get cancer     True\n",
      "4   I hope your mom dies     True\n",
      "<class 'pandas.core.frame.DataFrame'>\n",
      "Index: 1250 entries, 0 to 999\n",
      "Data columns (total 2 columns):\n",
      " #   Column    Non-Null Count  Dtype \n",
      "---  ------    --------------  ----- \n",
      " 0   sentence  1250 non-null   object\n",
      " 1   isToxic   1250 non-null   bool  \n",
      "dtypes: bool(1), object(1)\n",
      "memory usage: 20.8+ KB\n",
      "None\n",
      "                sentence  isToxic\n",
      "0  Hang from the ceiling     True\n",
      "1          Kill yourself     True\n",
      "2          Go buy a rope     True\n",
      "3             Get cancer     True\n",
      "4   I hope your mom dies     True\n"
     ]
    }
   ],
   "source": [
    "#ignore this file. Just run the files that dont have this messagae\n",
    "from sklearn.model_selection import train_test_split\n",
    "\n",
    "# Check the data\n",
    "print(df.info())\n",
    "print(df.head())\n",
    "\n",
    "dataset = pd.concat([df, csv])\n",
    "print(dataset.info())\n",
    "print(dataset.head())\n",
    "\n",
    "# Split the data into train and validation sets\n",
    "train_df, valid_df = train_test_split(dataset, test_size=0.2, random_state=42)\n",
    "\n",
    "# Ensure labels are integers (convert `isToxic` from bool to int)\n",
    "train_df['isToxic'] = train_df['isToxic'].astype(int)\n",
    "valid_df['isToxic'] = valid_df['isToxic'].astype(int)\n"
   ]
  },
  {
   "cell_type": "code",
   "execution_count": 4,
   "metadata": {
    "id": "OeAlD4wSmuw8"
   },
   "outputs": [],
   "source": [
    "#ignore this file. Just run the files that dont have this messagae\n",
    "from transformers import BertTokenizer\n",
    "import torch\n",
    "\n",
    "class BERTDataset:\n",
    "    def __init__(self, texts, labels, max_len=128):\n",
    "        self.texts = texts\n",
    "        self.labels = labels\n",
    "        self.max_len = max_len\n",
    "        self.tokenizer = BertTokenizer.from_pretrained(\"bert-base-uncased\")\n",
    "\n",
    "    def __len__(self):\n",
    "        return len(self.texts)\n",
    "\n",
    "    def __getitem__(self, idx):\n",
    "        text = str(self.texts[idx])\n",
    "        label = self.labels[idx]\n",
    "        tokenized_text = self.tokenizer(\n",
    "            text,\n",
    "            add_special_tokens=True,\n",
    "            padding='max_length',\n",
    "            max_length=self.max_len,\n",
    "            truncation=True,\n",
    "        )\n",
    "        ids = tokenized_text['input_ids']\n",
    "        mask = tokenized_text['attention_mask']\n",
    "        token_type_ids = tokenized_text['token_type_ids']\n",
    "\n",
    "        return {\n",
    "            'ids': torch.tensor(ids, dtype=torch.long),\n",
    "            'mask': torch.tensor(mask, dtype=torch.long),\n",
    "            'token_type_ids': torch.tensor(token_type_ids, dtype=torch.long),\n",
    "            'target': torch.tensor(label, dtype=torch.long)\n",
    "        }\n"
   ]
  },
  {
   "cell_type": "code",
   "execution_count": 5,
   "metadata": {
    "id": "cQrAmiQ-mxKq"
   },
   "outputs": [
    {
     "name": "stderr",
     "output_type": "stream",
     "text": [
      "c:\\Users\\patri\\AppData\\Local\\Programs\\Python\\Python312\\Lib\\site-packages\\huggingface_hub\\file_download.py:139: UserWarning: `huggingface_hub` cache-system uses symlinks by default to efficiently store duplicated files but your machine does not support them in C:\\Users\\patri\\.cache\\huggingface\\hub\\models--bert-base-uncased. Caching files will still work but in a degraded version that might require more space on your disk. This warning can be disabled by setting the `HF_HUB_DISABLE_SYMLINKS_WARNING` environment variable. For more details, see https://huggingface.co/docs/huggingface_hub/how-to-cache#limitations.\n",
      "To support symlinks on Windows, you either need to activate Developer Mode or to run Python as an administrator. In order to activate developer mode, see this article: https://docs.microsoft.com/en-us/windows/apps/get-started/enable-your-device-for-development\n",
      "  warnings.warn(message)\n"
     ]
    }
   ],
   "source": [
    "#ignore this file. Just run the files that dont have this messagae\n",
    "from torch.utils.data import DataLoader\n",
    "\n",
    "# Create datasets\n",
    "train_dataset = BERTDataset(\n",
    "    texts=train_df['sentence'].values,\n",
    "    labels=train_df['isToxic'].values\n",
    ")\n",
    "\n",
    "valid_dataset = BERTDataset(\n",
    "    texts=valid_df['sentence'].values,\n",
    "    labels=valid_df['isToxic'].values\n",
    ")\n",
    "\n",
    "# Create DataLoaders\n",
    "train_loader = DataLoader(train_dataset, batch_size=32, shuffle=True)\n",
    "valid_loader = DataLoader(valid_dataset, batch_size=32, shuffle=False)\n"
   ]
  },
  {
   "cell_type": "code",
   "execution_count": 6,
   "metadata": {
    "id": "23mNP9Xzmy5i"
   },
   "outputs": [],
   "source": [
    "#ignore this file. Just run the files that dont have this messagae\n",
    "import torch.nn as nn\n",
    "class ToxicModel(nn.Module):\n",
    "    def __init__(self):\n",
    "        super(ToxicModel, self).__init__()\n",
    "        self.bert = BertModel.from_pretrained(\"bert-base-uncased\", return_dict=False)\n",
    "        self.dropout = nn.Dropout(0.1)\n",
    "        self.classifier = nn.Linear(768, 2)\n",
    "\n",
    "    def forward(self, input_ids, token_type_ids, attention_mask, labels=None):\n",
    "        _, pooled_output = self.bert(input_ids, token_type_ids, attention_mask)\n",
    "        pooled_output = self.dropout(pooled_output)\n",
    "        logits = self.classifier(pooled_output)\n",
    "        return logits\n",
    "\n"
   ]
  },
  {
   "cell_type": "code",
   "execution_count": 7,
   "metadata": {
    "id": "3t_4ifqZm3Oi"
   },
   "outputs": [],
   "source": [
    "#ignore this file. Just run the files that dont have this messagae\n",
    "def train_model(self, train_dataset, valid_dataset, epochs=1):\n",
    "        device = torch.device(\"cuda\" if torch.cuda.is_available() else \"cpu\")\n",
    "        self.to(device)\n",
    "\n",
    "        param_optimizer = list(self.named_parameters())\n",
    "        no_decay = ['bias', 'LayerNorm.bias', 'LayerNorm.weight']\n",
    "        optimizer_grouped_paramaters = [\n",
    "            {\n",
    "                'params' : [p for n, p in param_optimizer if not any(nd in n for nd in no_decay)],\n",
    "                'weight_decay': 0.01,\n",
    "            },\n",
    "            {\n",
    "                'params' : [p for n, p in param_optimizer if any(nd in n for nd in no_decay)],\n",
    "                'weight_decay': 0.0,\n",
    "            },\n",
    "        ]\n",
    "\n",
    "        optimizer = torch.optim.Adam(optimizer_grouped_paramaters, lr=5e-5)\n",
    "        criterion = nn.CrossEntropyLoss()\n",
    "\n",
    "        for i in range(epochs):\n",
    "            self.train()\n",
    "            train_loss = 0\n",
    "            train_correct = 0\n",
    "            train_total = 0\n",
    "            for batch in train_dataset:\n",
    "                optimizer.zero_grad()\n",
    "                ids = batch['ids'].to(device)\n",
    "                mask = batch['mask'].to(device)\n",
    "                token_type_ids = batch['token_type_ids'].to(device)\n",
    "                target = batch['target'].to(device)\n",
    "\n",
    "                logits = self(ids, token_type_ids, mask)\n",
    "                loss = criterion(logits, target)\n",
    "                loss.backward()\n",
    "                optimizer.step()\n",
    "\n",
    "                # Calculate accuracy for training\n",
    "                _, predicted = torch.max(logits, dim=1)\n",
    "                train_correct += (predicted == target).sum().item()\n",
    "                train_total += target.size(0)\n",
    "\n",
    "                train_loss += loss.item() * batch['ids'].size(0)\n",
    "\n",
    "            train_loss = train_loss / len(train_dataset)\n",
    "            train_accuracy = 100 * train_correct / train_total  # Calculate training accuracy\n",
    "\n",
    "            self.eval()\n",
    "            valid_loss = 0\n",
    "            valid_correct = 0\n",
    "            valid_total = 0\n",
    "            for batch in valid_dataset:\n",
    "                ids = batch['ids'].to(device)\n",
    "                mask = batch['mask'].to(device)\n",
    "                token_type_ids = batch['token_type_ids'].to(device)\n",
    "                target = batch['target'].to(device)\n",
    "\n",
    "                logits = self(ids, token_type_ids, mask)\n",
    "                loss = criterion(logits, target)\n",
    "\n",
    "                # Calculate accuracy for validation\n",
    "                _, predicted = torch.max(logits, dim=1)\n",
    "                valid_correct += (predicted == target).sum().item()\n",
    "                valid_total += target.size(0)\n",
    "\n",
    "                valid_loss += loss.item() * batch['ids'].size(0)\n",
    "\n",
    "            valid_loss = valid_loss / len(valid_dataset)\n",
    "            valid_accuracy = 100 * valid_correct / valid_total  # Calculate validation accuracy\n",
    "\n",
    "            print(f\"Epoch {i+1}/{epochs}.. Train loss: {train_loss:.3f}.. Train accuracy: {train_accuracy:.2f}%.. Validation loss: {valid_loss:.3f}.. Validation accuracy: {valid_accuracy:.2f}%\")\n"
   ]
  },
  {
   "cell_type": "code",
   "execution_count": 10,
   "metadata": {},
   "outputs": [
    {
     "name": "stdout",
     "output_type": "stream",
     "text": [
      "Epoch 1/25.. Train loss: 0.656.. Train accuracy: 50.00%.. Validation loss: 0.660.. Validation accuracy: 48.00%.. Precision: 0.48%.. Recall: 1.00%.. F1: 0.65%\n",
      "Epoch 2/25.. Train loss: 0.643.. Train accuracy: 50.50%.. Validation loss: 0.658.. Validation accuracy: 48.00%.. Precision: 0.48%.. Recall: 1.00%.. F1: 0.65%\n",
      "Epoch 3/25.. Train loss: 0.641.. Train accuracy: 52.38%.. Validation loss: 0.648.. Validation accuracy: 48.00%.. Precision: 0.48%.. Recall: 1.00%.. F1: 0.65%\n",
      "Epoch 4/25.. Train loss: 0.628.. Train accuracy: 52.38%.. Validation loss: 0.696.. Validation accuracy: 53.00%.. Precision: 0.51%.. Recall: 0.43%.. F1: 0.47%\n",
      "Epoch 5/25.. Train loss: 0.626.. Train accuracy: 52.12%.. Validation loss: 0.650.. Validation accuracy: 59.00%.. Precision: 0.56%.. Recall: 0.65%.. F1: 0.60%\n",
      "Epoch 6/25.. Train loss: 0.609.. Train accuracy: 55.00%.. Validation loss: 0.601.. Validation accuracy: 52.50%.. Precision: 0.50%.. Recall: 1.00%.. F1: 0.67%\n",
      "Epoch 7/25.. Train loss: 0.582.. Train accuracy: 58.38%.. Validation loss: 0.600.. Validation accuracy: 52.00%.. Precision: 0.50%.. Recall: 1.00%.. F1: 0.67%\n",
      "Epoch 8/25.. Train loss: 0.540.. Train accuracy: 65.38%.. Validation loss: 0.587.. Validation accuracy: 51.50%.. Precision: 0.50%.. Recall: 1.00%.. F1: 0.66%\n",
      "Epoch 9/25.. Train loss: 0.526.. Train accuracy: 63.25%.. Validation loss: 0.512.. Validation accuracy: 54.50%.. Precision: 0.51%.. Recall: 1.00%.. F1: 0.68%\n",
      "Epoch 10/25.. Train loss: 0.499.. Train accuracy: 71.38%.. Validation loss: 0.550.. Validation accuracy: 79.00%.. Precision: 0.91%.. Recall: 0.62%.. F1: 0.74%\n",
      "Epoch 11/25.. Train loss: 0.414.. Train accuracy: 77.50%.. Validation loss: 0.395.. Validation accuracy: 80.00%.. Precision: 0.81%.. Recall: 0.76%.. F1: 0.78%\n",
      "Epoch 12/25.. Train loss: 0.403.. Train accuracy: 78.88%.. Validation loss: 0.539.. Validation accuracy: 54.00%.. Precision: 0.51%.. Recall: 1.00%.. F1: 0.68%\n",
      "Epoch 13/25.. Train loss: 0.484.. Train accuracy: 71.38%.. Validation loss: 0.630.. Validation accuracy: 60.50%.. Precision: 0.55%.. Recall: 0.99%.. F1: 0.71%\n",
      "Epoch 14/25.. Train loss: 0.430.. Train accuracy: 76.62%.. Validation loss: 0.442.. Validation accuracy: 70.50%.. Precision: 0.63%.. Recall: 0.96%.. F1: 0.76%\n",
      "Epoch 15/25.. Train loss: 0.342.. Train accuracy: 81.88%.. Validation loss: 0.418.. Validation accuracy: 77.50%.. Precision: 0.70%.. Recall: 0.92%.. F1: 0.80%\n",
      "Epoch 16/25.. Train loss: 0.273.. Train accuracy: 86.25%.. Validation loss: 0.375.. Validation accuracy: 82.50%.. Precision: 0.79%.. Recall: 0.86%.. F1: 0.83%\n",
      "Epoch 17/25.. Train loss: 0.277.. Train accuracy: 86.62%.. Validation loss: 0.513.. Validation accuracy: 71.50%.. Precision: 0.63%.. Recall: 0.98%.. F1: 0.77%\n",
      "Epoch 18/25.. Train loss: 0.315.. Train accuracy: 82.00%.. Validation loss: 0.543.. Validation accuracy: 82.50%.. Precision: 0.98%.. Recall: 0.65%.. F1: 0.78%\n",
      "Epoch 19/25.. Train loss: 0.264.. Train accuracy: 86.75%.. Validation loss: 0.354.. Validation accuracy: 87.00%.. Precision: 0.88%.. Recall: 0.84%.. F1: 0.86%\n",
      "Epoch 20/25.. Train loss: 0.334.. Train accuracy: 83.12%.. Validation loss: 0.389.. Validation accuracy: 88.50%.. Precision: 0.94%.. Recall: 0.81%.. F1: 0.87%\n",
      "Epoch 21/25.. Train loss: 0.255.. Train accuracy: 89.12%.. Validation loss: 0.342.. Validation accuracy: 83.50%.. Precision: 0.78%.. Recall: 0.91%.. F1: 0.84%\n",
      "Epoch 22/25.. Train loss: 0.238.. Train accuracy: 88.00%.. Validation loss: 0.371.. Validation accuracy: 87.00%.. Precision: 0.91%.. Recall: 0.81%.. F1: 0.86%\n",
      "Epoch 23/25.. Train loss: 0.303.. Train accuracy: 87.62%.. Validation loss: 0.525.. Validation accuracy: 83.00%.. Precision: 0.88%.. Recall: 0.75%.. F1: 0.81%\n",
      "Epoch 24/25.. Train loss: 0.303.. Train accuracy: 84.62%.. Validation loss: 0.489.. Validation accuracy: 81.50%.. Precision: 0.86%.. Recall: 0.74%.. F1: 0.79%\n",
      "Epoch 25/25.. Train loss: 0.212.. Train accuracy: 91.62%.. Validation loss: 0.471.. Validation accuracy: 81.50%.. Precision: 0.90%.. Recall: 0.69%.. F1: 0.78%\n"
     ]
    }
   ],
   "source": [
    "from sklearn.metrics import precision_score, recall_score, f1_score\n",
    "\n",
    "# Rest of your code remains unchanged...\n",
    "\n",
    "# Split dataset into training and validation sets\n",
    "train_df, valid_df = train_test_split(csv, test_size=0.2, random_state=42)\n",
    "\n",
    "# Ensure labels are integers\n",
    "train_df['isToxic'] = train_df['isToxic'].astype(int)\n",
    "valid_df['isToxic'] = valid_df['isToxic'].astype(int)\n",
    "\n",
    "# Create BERT Dataset class\n",
    "class BERTDataset:\n",
    "    def __init__(self, texts, labels, max_len=128):\n",
    "        self.texts = texts\n",
    "        self.labels = labels\n",
    "        self.max_len = max_len\n",
    "        self.tokenizer = BertTokenizer.from_pretrained(\"bert-base-uncased\")\n",
    "\n",
    "    def __len__(self):\n",
    "        return len(self.texts)\n",
    "\n",
    "    def __getitem__(self, idx):\n",
    "        text = str(self.texts[idx])\n",
    "        label = self.labels[idx]\n",
    "        tokenized_text = self.tokenizer(\n",
    "            text,\n",
    "            add_special_tokens=True,\n",
    "            padding='max_length',\n",
    "            max_length=self.max_len,\n",
    "            truncation=True,\n",
    "        )\n",
    "        ids = tokenized_text['input_ids']\n",
    "        mask = tokenized_text['attention_mask']\n",
    "        token_type_ids = tokenized_text['token_type_ids']\n",
    "\n",
    "        return {\n",
    "            'ids': torch.tensor(ids, dtype=torch.long),\n",
    "            'mask': torch.tensor(mask, dtype=torch.long),\n",
    "            'token_type_ids': torch.tensor(token_type_ids, dtype=torch.long),\n",
    "            'target': torch.tensor(label, dtype=torch.long)\n",
    "        }\n",
    "\n",
    "# Create DataLoaders\n",
    "train_dataset = BERTDataset(\n",
    "    texts=train_df['sentence'].values,\n",
    "    labels=train_df['isToxic'].values\n",
    ")\n",
    "\n",
    "valid_dataset = BERTDataset(\n",
    "    texts=valid_df['sentence'].values,\n",
    "    labels=valid_df['isToxic'].values\n",
    ")\n",
    "\n",
    "train_loader = DataLoader(train_dataset, batch_size=32, shuffle=True)\n",
    "valid_loader = DataLoader(valid_dataset, batch_size=32, shuffle=False)\n",
    "\n",
    "# Define the ToxicModel class\n",
    "class ToxicModel(nn.Module):\n",
    "    def __init__(self):\n",
    "        super(ToxicModel, self).__init__()\n",
    "        self.bert = BertModel.from_pretrained(\"bert-base-uncased\", return_dict=False)\n",
    "        self.dropout = nn.Dropout(0.2)  # Increased dropout to prevent overfitting\n",
    "        self.classifier = nn.Linear(768, 2)\n",
    "\n",
    "    def forward(self, input_ids, token_type_ids, attention_mask, labels=None):\n",
    "        _, pooled_output = self.bert(input_ids, token_type_ids, attention_mask)\n",
    "        pooled_output = self.dropout(pooled_output)\n",
    "        logits = self.classifier(pooled_output)\n",
    "        return logits\n",
    "\n",
    "# Define the training loop with learning rate tuning and class weighting\n",
    "def train_model(model, train_loader, valid_loader, epochs=1):\n",
    "    device = torch.device(\"cuda\" if torch.cuda.is_available() else \"cpu\")\n",
    "    model.to(device)\n",
    "\n",
    "    # Class weights (if needed)\n",
    "    # Class weights (increase weight for the minority class)\n",
    "    class_weights = torch.tensor([0.7, 1.3]).to(device)  # Change these weights based on class distribution\n",
    "    criterion = nn.CrossEntropyLoss(weight=class_weights)\n",
    "\n",
    "\n",
    "    optimizer = torch.optim.Adam(model.parameters(), lr=1e-5)  # Lower learning rate for better stability\n",
    "\n",
    "    for epoch in range(epochs):\n",
    "        model.train()\n",
    "        train_loss = 0\n",
    "        train_correct = 0\n",
    "        train_total = 0\n",
    "        for batch in train_loader:\n",
    "            optimizer.zero_grad()\n",
    "            ids = batch['ids'].to(device)\n",
    "            mask = batch['mask'].to(device)\n",
    "            token_type_ids = batch['token_type_ids'].to(device)\n",
    "            target = batch['target'].to(device)\n",
    "\n",
    "            logits = model(ids, token_type_ids, mask)\n",
    "            loss = criterion(logits, target)\n",
    "            loss.backward()\n",
    "            optimizer.step()\n",
    "\n",
    "            # Calculate accuracy for training\n",
    "            _, predicted = torch.max(logits, dim=1)\n",
    "            train_correct += (predicted == target).sum().item()\n",
    "            train_total += target.size(0)\n",
    "            train_loss += loss.item() * batch['ids'].size(0)\n",
    "\n",
    "        train_loss = train_loss / len(train_loader.dataset)\n",
    "        train_accuracy = 100 * train_correct / train_total\n",
    "\n",
    "        # Validation phase\n",
    "        model.eval()\n",
    "        valid_loss = 0 \n",
    "        valid_correct = 0\n",
    "        valid_total = 0\n",
    "        valid_pred = []\n",
    "        valid_true = []\n",
    "\n",
    "        with torch.no_grad():\n",
    "            for batch in valid_loader:\n",
    "                ids = batch['ids'].to(device)\n",
    "                mask = batch['mask'].to(device)\n",
    "                token_type_ids = batch['token_type_ids'].to(device)\n",
    "                target = batch['target'].to(device)\n",
    "\n",
    "                logits = model(ids, token_type_ids, mask)\n",
    "                loss = criterion(logits, target)\n",
    "\n",
    "                # Calculate accuracy for validation\n",
    "                _, predicted = torch.max(logits, dim=1)\n",
    "                valid_correct += (predicted == target).sum().item()\n",
    "                valid_total += target.size(0)\n",
    "\n",
    "                valid_loss += loss.item() * batch['ids'].size(0)\n",
    "                valid_pred.extend(predicted.cpu().numpy())\n",
    "                valid_true.extend(target.cpu().numpy())\n",
    "\n",
    "        valid_loss = valid_loss / len(valid_loader.dataset)\n",
    "        valid_accuracy = 100 * valid_correct / valid_total\n",
    "\n",
    "        # Calculate additional metrics\n",
    "        valid_precision = precision_score(valid_true, valid_pred)\n",
    "        valid_recall = recall_score(valid_true, valid_pred)\n",
    "        valid_f1 = f1_score(valid_true, valid_pred)\n",
    "\n",
    "        print(f\"Epoch {epoch+1}/{epochs}.. Train loss: {train_loss:.3f}.. Train accuracy: {train_accuracy:.2f}%.. \"\n",
    "              f\"Validation loss: {valid_loss:.3f}.. Validation accuracy: {valid_accuracy:.2f}%.. \"\n",
    "              f\"Precision: {valid_precision:.2f}%.. Recall: {valid_recall:.2f}%.. F1: {valid_f1:.2f}%\")\n",
    "\n",
    "# Initialize and train the model\n",
    "model = ToxicModel()\n",
    "train_model(model, train_loader, valid_loader, epochs=25)"
   ]
  },
  {
   "cell_type": "code",
   "execution_count": 11,
   "metadata": {
    "id": "q4iPqsIVnPhn"
   },
   "outputs": [
    {
     "name": "stdout",
     "output_type": "stream",
     "text": [
      "Model saved to toxic_model.pth\n"
     ]
    }
   ],
   "source": [
    "# Assuming the model has already been trained\n",
    "torch.save(model.state_dict(), 'toxic_model.pth')\n",
    "print(\"Model saved to toxic_model.pth\")\n"
   ]
  },
  {
   "cell_type": "code",
   "execution_count": null,
   "metadata": {
    "id": "eHzns6-JnQ3o"
   },
   "outputs": [],
   "source": []
  }
 ],
 "metadata": {
  "colab": {
   "provenance": []
  },
  "kernelspec": {
   "display_name": "Python 3",
   "name": "python3"
  },
  "language_info": {
   "codemirror_mode": {
    "name": "ipython",
    "version": 3
   },
   "file_extension": ".py",
   "mimetype": "text/x-python",
   "name": "python",
   "nbconvert_exporter": "python",
   "pygments_lexer": "ipython3",
   "version": "3.12.7"
  }
 },
 "nbformat": 4,
 "nbformat_minor": 0
}
